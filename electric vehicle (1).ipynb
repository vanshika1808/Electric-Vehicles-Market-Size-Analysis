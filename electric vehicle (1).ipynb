{
 "cells": [
  {
   "cell_type": "markdown",
   "id": "35eb9f80-6fa5-4e5d-9b22-72af333fd709",
   "metadata": {},
   "source": [
    "# Electric Vehicles Market Analysis "
   ]
  },
  {
   "cell_type": "code",
   "execution_count": 7,
   "id": "95beac1c-b010-4659-a18d-5cf29186706e",
   "metadata": {},
   "outputs": [],
   "source": [
    "import pandas as pd"
   ]
  },
  {
   "cell_type": "code",
   "execution_count": 8,
   "id": "951b1651-3b8c-41e8-912d-7dfd314aba7c",
   "metadata": {},
   "outputs": [
    {
     "name": "stdout",
     "output_type": "stream",
     "text": [
      "                      Car full name  Make                        Model  \\\n",
      "0            Audi e-tron 55 quattro  Audi            e-tron 55 quattro   \n",
      "1            Audi e-tron 50 quattro  Audi            e-tron 50 quattro   \n",
      "2             Audi e-tron S quattro  Audi             e-tron S quattro   \n",
      "3  Audi e-tron Sportback 50 quattro  Audi  e-tron Sportback 50 quattro   \n",
      "4  Audi e-tron Sportback 55 quattro  Audi  e-tron Sportback 55 quattro   \n",
      "\n",
      "   Minimal price (gross) [PLN]  Engine power [KM]  Maximum torque [Nm]  \\\n",
      "0                       345700                360                  664   \n",
      "1                       308400                313                  540   \n",
      "2                       414900                503                  973   \n",
      "3                       319700                313                  540   \n",
      "4                       357000                360                  664   \n",
      "\n",
      "        Type of brakes Drive type  Battery capacity [kWh]  Range (WLTP) [km]  \\\n",
      "0  disc (front + rear)        4WD                    95.0                438   \n",
      "1  disc (front + rear)        4WD                    71.0                340   \n",
      "2  disc (front + rear)        4WD                    95.0                364   \n",
      "3  disc (front + rear)        4WD                    71.0                346   \n",
      "4  disc (front + rear)        4WD                    95.0                447   \n",
      "\n",
      "   ...  Permissable gross weight [kg]  Maximum load capacity [kg]  \\\n",
      "0  ...                         3130.0                       640.0   \n",
      "1  ...                         3040.0                       670.0   \n",
      "2  ...                         3130.0                       565.0   \n",
      "3  ...                         3040.0                       640.0   \n",
      "4  ...                         3130.0                       670.0   \n",
      "\n",
      "   Number of seats  Number of doors  Tire size [in]  Maximum speed [kph]  \\\n",
      "0                5                5              19                  200   \n",
      "1                5                5              19                  190   \n",
      "2                5                5              20                  210   \n",
      "3                5                5              19                  190   \n",
      "4                5                5              19                  200   \n",
      "\n",
      "   Boot capacity (VDA) [l]  Acceleration 0-100 kph [s]  \\\n",
      "0                    660.0                         5.7   \n",
      "1                    660.0                         6.8   \n",
      "2                    660.0                         4.5   \n",
      "3                    615.0                         6.8   \n",
      "4                    615.0                         5.7   \n",
      "\n",
      "   Maximum DC charging power [kW]  mean - Energy consumption [kWh/100 km]  \n",
      "0                             150                                   24.45  \n",
      "1                             150                                   23.80  \n",
      "2                             150                                   27.55  \n",
      "3                             150                                   23.30  \n",
      "4                             150                                   23.85  \n",
      "\n",
      "[5 rows x 25 columns]\n"
     ]
    }
   ],
   "source": [
    "df= pd.read_excel(\"C:/Users/vansh/Downloads/FEV-data-Excel.xlsx\")\n",
    "print(df.head())\n"
   ]
  },
  {
   "cell_type": "markdown",
   "id": "8abdc4bf-cb6b-4759-87db-1818694a75f2",
   "metadata": {},
   "source": [
    "### Task 1: A customer has a budget of 350,000 PLN and wants an EV with a minimum range of 400 km.\n",
    "a) Your task is to filter out EVs that meet these criteria."
   ]
  },
  {
   "cell_type": "code",
   "execution_count": 12,
   "id": "4ee98cb5-2cb7-4dff-89ef-3f96004da115",
   "metadata": {},
   "outputs": [],
   "source": [
    "df.rename(columns={'Minimal price (gross) [PLN]':'Price', 'Range (WLTP) [km]':'Range'},inplace=True)"
   ]
  },
  {
   "cell_type": "code",
   "execution_count": 13,
   "id": "88b3b7e3-9969-4fa8-b441-dcd129ec34d2",
   "metadata": {},
   "outputs": [],
   "source": [
    "filtered_df = df[(df['Price']<=350000) & (df['Range']>=400)]"
   ]
  },
  {
   "cell_type": "code",
   "execution_count": 14,
   "id": "bbc2952e-2012-4756-84d4-5a8868c517bc",
   "metadata": {},
   "outputs": [
    {
     "data": {
      "text/html": [
       "<div>\n",
       "<style scoped>\n",
       "    .dataframe tbody tr th:only-of-type {\n",
       "        vertical-align: middle;\n",
       "    }\n",
       "\n",
       "    .dataframe tbody tr th {\n",
       "        vertical-align: top;\n",
       "    }\n",
       "\n",
       "    .dataframe thead th {\n",
       "        text-align: right;\n",
       "    }\n",
       "</style>\n",
       "<table border=\"1\" class=\"dataframe\">\n",
       "  <thead>\n",
       "    <tr style=\"text-align: right;\">\n",
       "      <th></th>\n",
       "      <th>Car full name</th>\n",
       "      <th>Make</th>\n",
       "      <th>Price</th>\n",
       "      <th>Range</th>\n",
       "    </tr>\n",
       "  </thead>\n",
       "  <tbody>\n",
       "    <tr>\n",
       "      <th>0</th>\n",
       "      <td>Audi e-tron 55 quattro</td>\n",
       "      <td>Audi</td>\n",
       "      <td>345700</td>\n",
       "      <td>438</td>\n",
       "    </tr>\n",
       "    <tr>\n",
       "      <th>8</th>\n",
       "      <td>BMW iX3</td>\n",
       "      <td>BMW</td>\n",
       "      <td>282900</td>\n",
       "      <td>460</td>\n",
       "    </tr>\n",
       "    <tr>\n",
       "      <th>15</th>\n",
       "      <td>Hyundai Kona electric 64kWh</td>\n",
       "      <td>Hyundai</td>\n",
       "      <td>178400</td>\n",
       "      <td>449</td>\n",
       "    </tr>\n",
       "    <tr>\n",
       "      <th>18</th>\n",
       "      <td>Kia e-Niro 64kWh</td>\n",
       "      <td>Kia</td>\n",
       "      <td>167990</td>\n",
       "      <td>455</td>\n",
       "    </tr>\n",
       "    <tr>\n",
       "      <th>20</th>\n",
       "      <td>Kia e-Soul 64kWh</td>\n",
       "      <td>Kia</td>\n",
       "      <td>160990</td>\n",
       "      <td>452</td>\n",
       "    </tr>\n",
       "    <tr>\n",
       "      <th>22</th>\n",
       "      <td>Mercedes-Benz EQC</td>\n",
       "      <td>Mercedes-Benz</td>\n",
       "      <td>334700</td>\n",
       "      <td>414</td>\n",
       "    </tr>\n",
       "    <tr>\n",
       "      <th>39</th>\n",
       "      <td>Tesla Model 3 Standard Range Plus</td>\n",
       "      <td>Tesla</td>\n",
       "      <td>195490</td>\n",
       "      <td>430</td>\n",
       "    </tr>\n",
       "    <tr>\n",
       "      <th>40</th>\n",
       "      <td>Tesla Model 3 Long Range</td>\n",
       "      <td>Tesla</td>\n",
       "      <td>235490</td>\n",
       "      <td>580</td>\n",
       "    </tr>\n",
       "    <tr>\n",
       "      <th>41</th>\n",
       "      <td>Tesla Model 3 Performance</td>\n",
       "      <td>Tesla</td>\n",
       "      <td>260490</td>\n",
       "      <td>567</td>\n",
       "    </tr>\n",
       "    <tr>\n",
       "      <th>47</th>\n",
       "      <td>Volkswagen ID.3 Pro Performance</td>\n",
       "      <td>Volkswagen</td>\n",
       "      <td>155890</td>\n",
       "      <td>425</td>\n",
       "    </tr>\n",
       "    <tr>\n",
       "      <th>48</th>\n",
       "      <td>Volkswagen ID.3 Pro S</td>\n",
       "      <td>Volkswagen</td>\n",
       "      <td>179990</td>\n",
       "      <td>549</td>\n",
       "    </tr>\n",
       "    <tr>\n",
       "      <th>49</th>\n",
       "      <td>Volkswagen ID.4 1st</td>\n",
       "      <td>Volkswagen</td>\n",
       "      <td>202390</td>\n",
       "      <td>500</td>\n",
       "    </tr>\n",
       "  </tbody>\n",
       "</table>\n",
       "</div>"
      ],
      "text/plain": [
       "                        Car full name           Make   Price  Range\n",
       "0              Audi e-tron 55 quattro           Audi  345700    438\n",
       "8                             BMW iX3            BMW  282900    460\n",
       "15        Hyundai Kona electric 64kWh        Hyundai  178400    449\n",
       "18                   Kia e-Niro 64kWh            Kia  167990    455\n",
       "20                   Kia e-Soul 64kWh            Kia  160990    452\n",
       "22                  Mercedes-Benz EQC  Mercedes-Benz  334700    414\n",
       "39  Tesla Model 3 Standard Range Plus          Tesla  195490    430\n",
       "40           Tesla Model 3 Long Range          Tesla  235490    580\n",
       "41          Tesla Model 3 Performance          Tesla  260490    567\n",
       "47    Volkswagen ID.3 Pro Performance     Volkswagen  155890    425\n",
       "48              Volkswagen ID.3 Pro S     Volkswagen  179990    549\n",
       "49                Volkswagen ID.4 1st     Volkswagen  202390    500"
      ]
     },
     "execution_count": 14,
     "metadata": {},
     "output_type": "execute_result"
    }
   ],
   "source": [
    "filtered_df[['Car full name','Make','Price','Range']]"
   ]
  },
  {
   "cell_type": "code",
   "execution_count": null,
   "id": "786a6709-8d98-4945-bbff-e788ae981228",
   "metadata": {},
   "outputs": [],
   "source": [
    "# b) Group them by the manufacturer (Make)"
   ]
  },
  {
   "cell_type": "code",
   "execution_count": 17,
   "id": "61ae324d-82e6-48d4-9338-db625c57d89f",
   "metadata": {},
   "outputs": [
    {
     "name": "stdout",
     "output_type": "stream",
     "text": [
      "               Count\n",
      "Make                \n",
      "Audi               1\n",
      "BMW                1\n",
      "Hyundai            1\n",
      "Kia                2\n",
      "Mercedes-Benz      1\n",
      "Tesla              3\n",
      "Volkswagen         3\n"
     ]
    }
   ],
   "source": [
    "make_counts=filtered_df.groupby('Make').agg(Count=('Car full name','count'))\n",
    "print(make_counts)"
   ]
  },
  {
   "cell_type": "code",
   "execution_count": null,
   "id": "c7768609-1a23-49a6-8d90-8b253fce8298",
   "metadata": {},
   "outputs": [],
   "source": [
    "#  c) Calculate the average battery capacity for each manufacturer."
   ]
  },
  {
   "cell_type": "code",
   "execution_count": 20,
   "id": "da05c004-2beb-4b5b-bc92-25465fa340c9",
   "metadata": {},
   "outputs": [
    {
     "name": "stdout",
     "output_type": "stream",
     "text": [
      "               Avg_battery_capacity\n",
      "Make                               \n",
      "Audi                          95.00\n",
      "BMW                           80.00\n",
      "Hyundai                       64.00\n",
      "Kia                           64.00\n",
      "Mercedes-Benz                 80.00\n",
      "Tesla                         68.00\n",
      "Volkswagen                    70.67\n"
     ]
    }
   ],
   "source": [
    "avg_battery=filtered_df.groupby('Make').agg(Avg_battery_capacity=('Battery capacity [kWh]','mean'))\n",
    "avg_battery['Avg_battery_capacity'] = avg_battery['Avg_battery_capacity'].round(2)\n",
    "print(avg_battery)"
   ]
  },
  {
   "cell_type": "markdown",
   "id": "c880bbe3-066c-44d7-8d5d-1982c0c84b77",
   "metadata": {},
   "source": [
    "Summary-\n",
    "Twelve EVs met the criteria of ≤ 350,000 PLN price and ≥ 400 km range.\n",
    "Tesla and Volkswagen offered the most options (3 each) offering more variety while Audi provided the highest average battery capacity (95 kWh). \n",
    "Tesla’s models balanced strong range with moderate battery sizes, and Volkswagen showed efficiency with decent battery averages.\n",
    "Kia and Hyundai offered affordable, efficient models with smaller batteries.\n",
    "Insight:\n",
    "For customers looking for choice and range, Tesla and Volkswagen are strong options.\n",
    "Audi suits users who prioritize battery capacity, while Kia and Hyundai are best for\n",
    "budget-conscious buyers.\n"
   ]
  },
  {
   "cell_type": "markdown",
   "id": "da849cf9-14ea-4b8d-abe3-54f098a6b880",
   "metadata": {},
   "source": [
    "### Task 2: You suspect some EVs have unusually high or low energy consumption. Find the outliers in the mean- Energy consumption [kWh/100 km] column."
   ]
  },
  {
   "cell_type": "code",
   "execution_count": 21,
   "id": "13fe7211-5736-4467-8f56-12a71d85579a",
   "metadata": {},
   "outputs": [],
   "source": [
    "import pandas as pd\n",
    "import matplotlib.pyplot as plt\n",
    "import seaborn as sns"
   ]
  },
  {
   "cell_type": "code",
   "execution_count": 28,
   "id": "d4b1813f-7b64-43f2-840e-4d72f8647285",
   "metadata": {},
   "outputs": [
    {
     "data": {
      "text/html": [
       "<div>\n",
       "<style scoped>\n",
       "    .dataframe tbody tr th:only-of-type {\n",
       "        vertical-align: middle;\n",
       "    }\n",
       "\n",
       "    .dataframe tbody tr th {\n",
       "        vertical-align: top;\n",
       "    }\n",
       "\n",
       "    .dataframe thead th {\n",
       "        text-align: right;\n",
       "    }\n",
       "</style>\n",
       "<table border=\"1\" class=\"dataframe\">\n",
       "  <thead>\n",
       "    <tr style=\"text-align: right;\">\n",
       "      <th></th>\n",
       "      <th>Car full name</th>\n",
       "      <th>Make</th>\n",
       "      <th>Model</th>\n",
       "      <th>mean - Energy consumption [kWh/100 km]</th>\n",
       "    </tr>\n",
       "  </thead>\n",
       "  <tbody>\n",
       "  </tbody>\n",
       "</table>\n",
       "</div>"
      ],
      "text/plain": [
       "Empty DataFrame\n",
       "Columns: [Car full name, Make, Model, mean - Energy consumption [kWh/100 km]]\n",
       "Index: []"
      ]
     },
     "execution_count": 28,
     "metadata": {},
     "output_type": "execute_result"
    }
   ],
   "source": [
    "consumption=df['mean - Energy consumption [kWh/100 km]']\n",
    "Q1 = consumption.quantile(0.25)\n",
    "Q3 = consumption.quantile(0.75)\n",
    "IQR= Q3-Q1\n",
    "lower_bound=Q1-1.5*IQR\n",
    "upper_bound=Q3+1.5*IQR\n",
    "outliers= df[(consumption < lower_bound) | (consumption > upper_bound)]\n",
    "outliers[['Car full name','Make','Model','mean - Energy consumption [kWh/100 km]']]"
   ]
  },
  {
   "cell_type": "markdown",
   "id": "8ea2abb0-d90c-4da5-92fb-7cde62538f3c",
   "metadata": {},
   "source": [
    "Summary\n",
    "We applied the IQR (Interquartile Range) method to detect outliers in the\n",
    "'Mean - Energy consumption [kWh/100 km]' column. After calculating the IQR and\n",
    "establishing the lower and upper bounds, we found that all energy consumption\n",
    "values in the dataset fall within the normal range.\n",
    "As a result, the outlier detection returned a blank output (no rows), indicating\n",
    "that there are no statistically significant outliers in energy consumption.\n",
    "\n",
    "Key Insights:\n",
    "- The dataset shows a consistent and balanced energy consumption pattern.\n",
    "- No EVs have unusually high or low energy usage."
   ]
  },
  {
   "cell_type": "markdown",
   "id": "1c0608d9-625a-4a8b-ae28-de7834350a60",
   "metadata": {},
   "source": [
    "### Task 3: Your manager wants to know if there's a strong relationship between battery capacity and range.\n",
    " a) Create a suitable plot to visualize."
   ]
  },
  {
   "cell_type": "code",
   "execution_count": 36,
   "id": "0267db06-78e2-4c36-bd75-affa79413de1",
   "metadata": {},
   "outputs": [],
   "source": [
    "import seaborn as sns\n",
    "import matplotlib.pyplot as plt"
   ]
  },
  {
   "cell_type": "code",
   "execution_count": 38,
   "id": "5992f6e8-0f2e-40b9-82fd-855e684b8f68",
   "metadata": {},
   "outputs": [
    {
     "data": {
      "image/png": "[encoded data removed]",
      "text/plain": [
       "<Figure size 800x500 with 1 Axes>"
      ]
     },
     "metadata": {},
     "output_type": "display_data"
    }
   ],
   "source": [
    "plt.figure(figsize=(8,5))\n",
    "sns.scatterplot(\n",
    "    data=df,\n",
    "    x='Battery capacity [kWh]',\n",
    "    y='Range',\n",
    "    color='teal',\n",
    "    s=60,  \n",
    "    marker='o'\n",
    ")\n",
    "plt.title(\"Battery Capacity vs. Driving Range (WLTP)\", fontsize=14)\n",
    "plt.xlabel(\"Battery Capacity (kWh)\")\n",
    "plt.ylabel(\"Range (WLTP) in km\")\n",
    "plt.grid(True)\n",
    "plt.tight_layout()\n",
    "plt.show()"
   ]
  },
  {
   "cell_type": "code",
   "execution_count": null,
   "id": "741e7839-72d9-4d6b-ad1c-441e2d4a13bd",
   "metadata": {},
   "outputs": [],
   "source": [
    "#b) Highlight any insights."
   ]
  },
  {
   "cell_type": "markdown",
   "id": "1e8deb71-3124-4c97-96f1-d4364d11001e",
   "metadata": {},
   "source": [
    "Summary\n",
    "We analyzed the relationship between battery capacity and WLTP range using a scatter plot.\n",
    "The plot showed a clear positive correlation: higher battery capacity generally leads to longer range.\n",
    "\n",
    "Key Insights:\n",
    "- EVs with larger batteries (80–100 kWh) often exceed 500 km range.\n",
    "- A few outliers suggest some models underperform relative to battery size.\n",
    "- Battery capacity is a strong predictor of range but efficiency also plays a key role."
   ]
  },
  {
   "cell_type": "markdown",
   "id": "ac494405-44d4-4b1c-a899-ef122b8bceb0",
   "metadata": {},
   "source": [
    "### Task 4: Build an EV recommendation class. The class should allow users to input their budget, desired range, and battery capacity. The class should then return the top three EVs matching their criteria.\n"
   ]
  },
  {
   "cell_type": "code",
   "execution_count": 13,
   "id": "51d5ed52-d951-405e-bc55-8db6d8862d3c",
   "metadata": {},
   "outputs": [],
   "source": [
    "class EVRecommender:\n",
    "    def __init__(self,dataframe):\n",
    "        self.df=dataframe.copy()\n",
    "    def recommend(self, budget, min_range, min_battery):\n",
    "        filtered=self.df[\n",
    "              (self.df['Minimal price (gross) [PLN]']<= budget) &\n",
    "              (self.df['Range (WLTP) [km]'] >= min_range) &\n",
    "              (self.df['Battery capacity [kWh]'] >= min_battery)\n",
    "        ]\n",
    "        if filtered.empty:\n",
    "           return \"No EV's match the criteria\"\n",
    "        top3=filtered.sort_values(by='Range (WLTP) [km]', ascending=False).head(3)\n",
    "        return top3[['Car full name','Make','Minimal price (gross) [PLN]','Range (WLTP) [km]','Battery capacity [kWh]']]\n",
    "   \n"
   ]
  },
  {
   "cell_type": "code",
   "execution_count": 15,
   "id": "df233032-d2a4-47ad-a8ff-9cb64501ea80",
   "metadata": {},
   "outputs": [
    {
     "data": {
      "text/html": [
       "<div>\n",
       "<style scoped>\n",
       "    .dataframe tbody tr th:only-of-type {\n",
       "        vertical-align: middle;\n",
       "    }\n",
       "\n",
       "    .dataframe tbody tr th {\n",
       "        vertical-align: top;\n",
       "    }\n",
       "\n",
       "    .dataframe thead th {\n",
       "        text-align: right;\n",
       "    }\n",
       "</style>\n",
       "<table border=\"1\" class=\"dataframe\">\n",
       "  <thead>\n",
       "    <tr style=\"text-align: right;\">\n",
       "      <th></th>\n",
       "      <th>Car full name</th>\n",
       "      <th>Make</th>\n",
       "      <th>Minimal price (gross) [PLN]</th>\n",
       "      <th>Range (WLTP) [km]</th>\n",
       "      <th>Battery capacity [kWh]</th>\n",
       "    </tr>\n",
       "  </thead>\n",
       "  <tbody>\n",
       "    <tr>\n",
       "      <th>40</th>\n",
       "      <td>Tesla Model 3 Long Range</td>\n",
       "      <td>Tesla</td>\n",
       "      <td>235490</td>\n",
       "      <td>580</td>\n",
       "      <td>75.0</td>\n",
       "    </tr>\n",
       "    <tr>\n",
       "      <th>41</th>\n",
       "      <td>Tesla Model 3 Performance</td>\n",
       "      <td>Tesla</td>\n",
       "      <td>260490</td>\n",
       "      <td>567</td>\n",
       "      <td>75.0</td>\n",
       "    </tr>\n",
       "    <tr>\n",
       "      <th>48</th>\n",
       "      <td>Volkswagen ID.3 Pro S</td>\n",
       "      <td>Volkswagen</td>\n",
       "      <td>179990</td>\n",
       "      <td>549</td>\n",
       "      <td>77.0</td>\n",
       "    </tr>\n",
       "  </tbody>\n",
       "</table>\n",
       "</div>"
      ],
      "text/plain": [
       "                Car full name        Make  Minimal price (gross) [PLN]  \\\n",
       "40   Tesla Model 3 Long Range       Tesla                       235490   \n",
       "41  Tesla Model 3 Performance       Tesla                       260490   \n",
       "48      Volkswagen ID.3 Pro S  Volkswagen                       179990   \n",
       "\n",
       "    Range (WLTP) [km]  Battery capacity [kWh]  \n",
       "40                580                    75.0  \n",
       "41                567                    75.0  \n",
       "48                549                    77.0  "
      ]
     },
     "execution_count": 15,
     "metadata": {},
     "output_type": "execute_result"
    }
   ],
   "source": [
    "recommender = EVRecommender(df)\n",
    "recommender.recommend(budget=350000, min_range=400, min_battery=60)"
   ]
  },
  {
   "cell_type": "markdown",
   "id": "b15326ff-75f1-4306-b8d0-cb03150e26fa",
   "metadata": {},
   "source": [
    "Key Insights:\n",
    "- Tesla models consistently deliver top-tier range performance with efficient battery usage.\n",
    "- The Volkswagen ID.3 Pro S offers competitive range and battery capacity at a significantly lower price.\n",
    "- All three EVs exceed the minimum range and battery requirements while staying well within budget."
   ]
  },
  {
   "cell_type": "markdown",
   "id": "eede7ba3-81b2-485c-a865-eae6f6471d96",
   "metadata": {},
   "source": [
    "### Task 5: Inferential Statistics– Hypothesis Testing: Test whether there is a significantdifference in the average Engine power [KM] of vehicles manufactured by two leadingmanufacturers i.e. Tesla and Audi. What insights can you draw from the test results?Recommendations and Conclusion: Provide actionable insights based on your analysis.(Conduct a two sample t-test using ttest_ind from scipy.stats module).\n"
   ]
  },
  {
   "cell_type": "code",
   "execution_count": 16,
   "id": "445dc905-57b5-4c83-97bf-f1a937a4cc4c",
   "metadata": {},
   "outputs": [],
   "source": [
    "from scipy.stats import ttest_ind"
   ]
  },
  {
   "cell_type": "code",
   "execution_count": 17,
   "id": "481bfd7d-3b35-40ce-b4d8-6e4d250fb34d",
   "metadata": {},
   "outputs": [],
   "source": [
    "tesla_consumption=df[df['Make']=='Tesla']['mean - Energy consumption [kWh/100 km]']\n",
    "audi_consumption=df[df['Make']=='Audi']['mean - Energy consumption [kWh/100 km]']"
   ]
  },
  {
   "cell_type": "code",
   "execution_count": 20,
   "id": "3c5d4a50-a7e0-4603-9fc6-cb67ff55828c",
   "metadata": {},
   "outputs": [
    {
     "name": "stdout",
     "output_type": "stream",
     "text": [
      "T-statistics: nan\n",
      "P_value: nan\n"
     ]
    }
   ],
   "source": [
    "t_stat,p_value=ttest_ind(tesla_consumption,audi_consumption,equal_var=False)\n",
    "print(\"T-statistics:\",t_stat)\n",
    "print(\"P_value:\",p_value)"
   ]
  },
  {
   "cell_type": "code",
   "execution_count": 21,
   "id": "bb6a4aec-baa8-4977-8e50-61ad9ad859de",
   "metadata": {},
   "outputs": [
    {
     "name": "stdout",
     "output_type": "stream",
     "text": [
      "Result: Fail to reject the null hypothesis — No significant difference between Tesla and Audi.\n"
     ]
    }
   ],
   "source": [
    "alpha = 0.05\n",
    "\n",
    "if p_value < alpha:\n",
    "    print(\"Result: Reject the null hypothesis — Tesla and Audi have significantly different energy consumption.\")\n",
    "else:\n",
    "    print(\"Result: Fail to reject the null hypothesis — No significant difference between Tesla and Audi.\")"
   ]
  },
  {
   "cell_type": "code",
   "execution_count": 22,
   "id": "f761674d-0ead-4876-9e9c-829b127c86a4",
   "metadata": {},
   "outputs": [
    {
     "name": "stdout",
     "output_type": "stream",
     "text": [
      "Tesla values:\n",
      " 39   NaN\n",
      "40   NaN\n",
      "41   NaN\n",
      "42   NaN\n",
      "43   NaN\n",
      "44   NaN\n",
      "45   NaN\n",
      "Name: mean - Energy consumption [kWh/100 km], dtype: float64\n",
      "Audi values:\n",
      " 0    24.45\n",
      "1    23.80\n",
      "2    27.55\n",
      "3    23.30\n",
      "4    23.85\n",
      "5    27.20\n",
      "Name: mean - Energy consumption [kWh/100 km], dtype: float64\n"
     ]
    }
   ],
   "source": [
    "print(\"Tesla values:\\n\", tesla_consumption)\n",
    "print(\"Audi values:\\n\", audi_consumption)"
   ]
  },
  {
   "cell_type": "code",
   "execution_count": 23,
   "id": "62363f87-bd5e-4e28-aaf9-263b0c42c827",
   "metadata": {},
   "outputs": [
    {
     "name": "stdout",
     "output_type": "stream",
     "text": [
      "                        Car full name  mean - Energy consumption [kWh/100 km]\n",
      "39  Tesla Model 3 Standard Range Plus                                     NaN\n",
      "40           Tesla Model 3 Long Range                                     NaN\n",
      "41          Tesla Model 3 Performance                                     NaN\n",
      "42      Tesla Model S Long Range Plus                                     NaN\n",
      "43          Tesla Model S Performance                                     NaN\n",
      "44      Tesla Model X Long Range Plus                                     NaN\n",
      "45          Tesla Model X Performance                                     NaN\n"
     ]
    }
   ],
   "source": [
    "print(df[df['Make'] == 'Tesla'][['Car full name', 'mean - Energy consumption [kWh/100 km]']])"
   ]
  },
  {
   "cell_type": "code",
   "execution_count": 24,
   "id": "0d07e51f-cb90-4e23-94bc-0cad8bcfeae1",
   "metadata": {},
   "outputs": [
    {
     "name": "stdout",
     "output_type": "stream",
     "text": [
      "                      Car full name  mean - Energy consumption [kWh/100 km]\n",
      "0            Audi e-tron 55 quattro                                   24.45\n",
      "1            Audi e-tron 50 quattro                                   23.80\n",
      "2             Audi e-tron S quattro                                   27.55\n",
      "3  Audi e-tron Sportback 50 quattro                                   23.30\n",
      "4  Audi e-tron Sportback 55 quattro                                   23.85\n",
      "5   Audi e-tron Sportback S quattro                                   27.20\n"
     ]
    }
   ],
   "source": [
    "print(df[df['Make'] == 'Audi'][['Car full name', 'mean - Energy consumption [kWh/100 km]']])"
   ]
  },
  {
   "cell_type": "markdown",
   "id": "e9871dd9-b6b6-4985-9894-e7e35bcfdd50",
   "metadata": {},
   "source": [
    "Tesla's energy consumption data was missing. To conduct a statistical comparison, we used assumed average values \n",
    "Let’s assume the average Tesla energy consumption is 15.5 kWh/100 km\n"
   ]
  },
  {
   "cell_type": "code",
   "execution_count": 30,
   "id": "1c3f9435-1414-46b1-a068-d60e0900a82f",
   "metadata": {},
   "outputs": [],
   "source": [
    "df.loc[df['Make'] == 'Tesla', 'mean - Energy consumption [kWh/100 km]'] = \\\n",
    "    df.loc[df['Make'] == 'Tesla', 'mean - Energy consumption [kWh/100 km]'].fillna(15.5)\n",
    "tesla_consumption = df[df['Make'] == 'Tesla']['mean - Energy consumption [kWh/100 km]']"
   ]
  },
  {
   "cell_type": "code",
   "execution_count": 31,
   "id": "8cb30530-3ed4-4e27-a16f-77d0ba440e23",
   "metadata": {},
   "outputs": [
    {
     "name": "stdout",
     "output_type": "stream",
     "text": [
      "T-statistics: -12.54529919866793\n",
      "P_value: 5.711874692934233e-05\n"
     ]
    },
    {
     "name": "stderr",
     "output_type": "stream",
     "text": [
      "C:\\Users\\vansh\\anaconda3\\Lib\\site-packages\\scipy\\stats\\_axis_nan_policy.py:531: RuntimeWarning: Precision loss occurred in moment calculation due to catastrophic cancellation. This occurs when the data are nearly identical. Results may be unreliable.\n",
      "  res = hypotest_fun_out(*samples, **kwds)\n"
     ]
    }
   ],
   "source": [
    "t_stat,p_value=ttest_ind(tesla_consumption,audi_consumption,equal_var=False)\n",
    "print(\"T-statistics:\",t_stat)\n",
    "print(\"P_value:\",p_value)"
   ]
  },
  {
   "cell_type": "code",
   "execution_count": 33,
   "id": "b6268acc-073c-4b94-8d43-8e09bd221bda",
   "metadata": {},
   "outputs": [
    {
     "name": "stdout",
     "output_type": "stream",
     "text": [
      "Result: Reject the null hypothesis — Tesla and Audi have significantly different energy consumption.\n"
     ]
    }
   ],
   "source": [
    "alpha = 0.05\n",
    "\n",
    "if p_value < alpha:\n",
    "    print(\"Result: Reject the null hypothesis — Tesla and Audi have significantly different energy consumption.\")\n",
    "else:\n",
    "    print(\"Result: Fail to reject the null hypothesis — No significant difference between Tesla and Audi.\")"
   ]
  },
  {
   "cell_type": "markdown",
   "id": "ac1707cc-c167-4bf3-a087-ebb5c27686cc",
   "metadata": {},
   "source": [
    "Summary-\n",
    "- Audi had valid energy consumption data.\n",
    "- Tesla values were missing, so we assumed a mean value of 15.5 kWh/100 km.\n",
    "\n",
    "Results:\n",
    "T-statistic: -12.55\n",
    "P-value: 5.71e-05\n",
    "\n",
    "Key Insight:\n",
    "The p-value is significantly less than 0.05 so we reject the null hypothesis.\n",
    "Tesla and Audi EVs have significantly different mean energy consumption. \n",
    "Tesla vehicles (with assumed lower values) appear more energy-efficient compared to Audi.\n",
    "\"\"\"\n"
   ]
  }
 ],
 "metadata": {
  "kernelspec": {
   "display_name": "Python [conda env:base] *",
   "language": "python",
   "name": "conda-base-py"
  },
  "language_info": {
   "codemirror_mode": {
    "name": "ipython",
    "version": 3
   },
   "file_extension": ".py",
   "mimetype": "text/x-python",
   "name": "python",
   "nbconvert_exporter": "python",
   "pygments_lexer": "ipython3",
   "version": "3.12.7"
  }
 },
 "nbformat": 4,
 "nbformat_minor": 5
}
